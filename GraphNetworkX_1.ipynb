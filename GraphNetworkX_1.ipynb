{
  "nbformat": 4,
  "nbformat_minor": 0,
  "metadata": {
    "colab": {
      "provenance": []
    },
    "kernelspec": {
      "name": "python3",
      "display_name": "Python 3"
    },
    "language_info": {
      "name": "python"
    }
  },
  "cells": [
    {
      "cell_type": "code",
      "execution_count": null,
      "metadata": {
        "colab": {
          "base_uri": "https://localhost:8080/"
        },
        "id": "2wbT1L97130D",
        "outputId": "55899a66-3b97-4119-d03f-1409d25d0b98"
      },
      "outputs": [
        {
          "output_type": "stream",
          "name": "stdout",
          "text": [
            "Requirement already satisfied: networkx in /usr/local/lib/python3.10/dist-packages (3.2.1)\n"
          ]
        }
      ],
      "source": [
        "!pip install networkx"
      ]
    },
    {
      "cell_type": "code",
      "source": [
        "import networkx as nx\n",
        "import matplotlib.pyplot as plt"
      ],
      "metadata": {
        "id": "Qw1VDmGk2I1H"
      },
      "execution_count": null,
      "outputs": []
    },
    {
      "cell_type": "code",
      "source": [
        "G = nx.Graph()\n",
        "##UNDIRECTED GRAPH"
      ],
      "metadata": {
        "id": "MUeGjpvC2KDJ"
      },
      "execution_count": null,
      "outputs": []
    },
    {
      "cell_type": "code",
      "source": [
        "G.add_edges_from([('A', 'B'), ('A', 'C'), ('B', 'D'),\n",
        "('B', 'E'), ('C', 'F'), ('C', 'G')])"
      ],
      "metadata": {
        "id": "Fdr0jecF2NTo"
      },
      "execution_count": null,
      "outputs": []
    },
    {
      "cell_type": "code",
      "source": [
        "print(f\"degree(A) = {G.degree['A']}\")\n"
      ],
      "metadata": {
        "colab": {
          "base_uri": "https://localhost:8080/"
        },
        "id": "j1zeg_Qz6v3T",
        "outputId": "cd92af63-fe68-406c-bdc3-cdd8d411e59a"
      },
      "execution_count": null,
      "outputs": [
        {
          "output_type": "stream",
          "name": "stdout",
          "text": [
            "degree(A) = 2\n"
          ]
        }
      ]
    },
    {
      "cell_type": "code",
      "source": [
        "G['A']"
      ],
      "metadata": {
        "colab": {
          "base_uri": "https://localhost:8080/"
        },
        "id": "Lo_obNKp8gCL",
        "outputId": "ad7f939d-1b79-483a-f395-e9d8db3d6028"
      },
      "execution_count": null,
      "outputs": [
        {
          "output_type": "execute_result",
          "data": {
            "text/plain": [
              "AtlasView({'B': {}, 'C': {}})"
            ]
          },
          "metadata": {},
          "execution_count": 42
        }
      ]
    },
    {
      "cell_type": "code",
      "source": [
        "def bfs(graph, node):\n",
        "    visited, queue = [node], [node]\n",
        "\n",
        "    while queue:\n",
        "        node = queue.pop(0)\n",
        "        print('------------')\n",
        "        for neighbor in graph[node]:\n",
        "            if neighbor not in visited:\n",
        "                print(f\"Visited at {neighbor}\")\n",
        "                visited.append(neighbor)\n",
        "                queue.append(neighbor)\n",
        "\n",
        "    return visited\n",
        "\n",
        "bfs(G, 'A')"
      ],
      "metadata": {
        "colab": {
          "base_uri": "https://localhost:8080/"
        },
        "id": "NHELpA368lVz",
        "outputId": "68fc5ac3-8f6c-4136-fa93-3eba8ee6c5c5"
      },
      "execution_count": null,
      "outputs": [
        {
          "output_type": "stream",
          "name": "stdout",
          "text": [
            "------------\n",
            "Visited at B\n",
            "Visited at C\n",
            "------------\n",
            "Visited at D\n",
            "Visited at E\n",
            "------------\n",
            "Visited at F\n",
            "Visited at G\n",
            "------------\n",
            "------------\n",
            "------------\n",
            "------------\n"
          ]
        },
        {
          "output_type": "execute_result",
          "data": {
            "text/plain": [
              "['A', 'B', 'C', 'D', 'E', 'F', 'G']"
            ]
          },
          "metadata": {},
          "execution_count": 43
        }
      ]
    },
    {
      "cell_type": "code",
      "source": [
        "G"
      ],
      "metadata": {
        "colab": {
          "base_uri": "https://localhost:8080/"
        },
        "id": "gdYvof7_2P6B",
        "outputId": "acbaccdd-d94b-49a6-ce8f-94304b700d00"
      },
      "execution_count": null,
      "outputs": [
        {
          "output_type": "execute_result",
          "data": {
            "text/plain": [
              "<networkx.classes.graph.Graph at 0x78b7b0fd2650>"
            ]
          },
          "metadata": {},
          "execution_count": 41
        }
      ]
    },
    {
      "cell_type": "code",
      "source": [
        "# plt.axis('off')\n",
        "nx.draw_networkx(G,node_size=600,font_color='white')"
      ],
      "metadata": {
        "colab": {
          "base_uri": "https://localhost:8080/",
          "height": 406
        },
        "id": "gEIMWvzX2QS7",
        "outputId": "7e8f1015-210e-48b1-c91a-3350efe811a7"
      },
      "execution_count": null,
      "outputs": [
        {
          "output_type": "display_data",
          "data": {
            "text/plain": [
              "<Figure size 640x480 with 1 Axes>"
            ],
            "image/png": "[encoded data removed]"
          },
          "metadata": {}
        }
      ]
    },
    {
      "cell_type": "code",
      "source": [
        "##DIRECTED GRAPH\n",
        "DG = nx.DiGraph()\n",
        "DG.add_edges_from([('A', 'B'), ('A', 'C'), ('B', 'D'),\n",
        "('B', 'E'), ('C', 'F'), ('C', 'G')])"
      ],
      "metadata": {
        "id": "3IiHIadu2SQY"
      },
      "execution_count": null,
      "outputs": []
    },
    {
      "cell_type": "code",
      "source": [
        "visited = []\n",
        "\n",
        "def dfs(visited, graph, node):\n",
        "    if node not in visited:\n",
        "        print(f\"{node} has been visited\")\n",
        "        visited.append(node)\n",
        "        for neighbor in graph[node]:\n",
        "            visited = dfs(visited, graph, neighbor)\n",
        "\n",
        "    return visited\n",
        "\n",
        "dfs(visited, G, 'A')"
      ],
      "metadata": {
        "colab": {
          "base_uri": "https://localhost:8080/"
        },
        "id": "GvaZPfsoACde",
        "outputId": "a009de00-006c-435b-d374-af438c703048"
      },
      "execution_count": null,
      "outputs": [
        {
          "output_type": "stream",
          "name": "stdout",
          "text": [
            "A has been visited\n",
            "B has been visited\n",
            "D has been visited\n",
            "E has been visited\n",
            "C has been visited\n",
            "F has been visited\n",
            "G has been visited\n"
          ]
        },
        {
          "output_type": "execute_result",
          "data": {
            "text/plain": [
              "['A', 'B', 'D', 'E', 'C', 'F', 'G']"
            ]
          },
          "metadata": {},
          "execution_count": 44
        }
      ]
    },
    {
      "cell_type": "code",
      "source": [
        "print(f\"deg^-(A) = {DG.in_degree['A']}\")\n",
        "print(f\"deg^+(A) = {DG.out_degree['A']}\")"
      ],
      "metadata": {
        "colab": {
          "base_uri": "https://localhost:8080/"
        },
        "id": "O3gW7aV064YI",
        "outputId": "2ac550b0-e9f4-4996-a7a3-e3cc1089ff27"
      },
      "execution_count": null,
      "outputs": [
        {
          "output_type": "stream",
          "name": "stdout",
          "text": [
            "deg^-(A) = 0\n",
            "deg^+(A) = 2\n"
          ]
        }
      ]
    },
    {
      "cell_type": "code",
      "source": [
        "print(f\"Degree centrality      = {nx.degree_centrality(DG)}\")\n",
        "print(f\"Closeness centrality   = {nx.closeness_centrality(DG)}\")\n",
        "print(f\"Betweenness centrality = {nx.betweenness_centrality(DG)}\")"
      ],
      "metadata": {
        "colab": {
          "base_uri": "https://localhost:8080/"
        },
        "id": "ywuD_hhR7Adw",
        "outputId": "64ec383c-2017-4719-ebce-5e2d506ce361"
      },
      "execution_count": null,
      "outputs": [
        {
          "output_type": "stream",
          "name": "stdout",
          "text": [
            "Degree centrality      = {'A': 0.3333333333333333, 'B': 0.5, 'C': 0.5, 'D': 0.16666666666666666, 'E': 0.16666666666666666, 'F': 0.16666666666666666, 'G': 0.16666666666666666}\n",
            "Closeness centrality   = {'A': 0.0, 'B': 0.16666666666666666, 'C': 0.16666666666666666, 'D': 0.2222222222222222, 'E': 0.2222222222222222, 'F': 0.2222222222222222, 'G': 0.2222222222222222}\n",
            "Betweenness centrality = {'A': 0.0, 'B': 0.06666666666666667, 'C': 0.06666666666666667, 'D': 0.0, 'E': 0.0, 'F': 0.0, 'G': 0.0}\n"
          ]
        }
      ]
    },
    {
      "cell_type": "code",
      "source": [
        "plt.axis('off')\n",
        "nx.draw_networkx(DG,node_size=600,font_color='white')"
      ],
      "metadata": {
        "colab": {
          "base_uri": "https://localhost:8080/",
          "height": 406
        },
        "id": "Box_QaUu2X1R",
        "outputId": "749b60f2-c034-4e05-d8fe-d159599ef8a4"
      },
      "execution_count": null,
      "outputs": [
        {
          "output_type": "display_data",
          "data": {
            "text/plain": [
              "<Figure size 640x480 with 1 Axes>"
            ],
            "image/png": "[encoded data removed]"
          },
          "metadata": {}
        }
      ]
    },
    {
      "cell_type": "code",
      "source": [
        "##WEIGHTED GRAPH\n",
        "WG = nx.Graph()\n",
        "WG.add_edges_from([('A', 'B', {\"weight\": 10}), ('A', 'C',\n",
        "{\"weight\": 20}), ('B', 'D', {\"weight\": 30}), ('B', 'E',\n",
        "{\"weight\": 40}), ('C', 'F', {\"weight\": 50}), ('C', 'G',\n",
        "{\"weight\": 60})])\n",
        "\n",
        "labels = nx.get_edge_attributes(WG, \"weight\")\n"
      ],
      "metadata": {
        "id": "xXxQ7Gny2ZX9"
      },
      "execution_count": null,
      "outputs": []
    },
    {
      "cell_type": "code",
      "source": [
        "# plt.axis('off')\n",
        "nx.draw_networkx(WG,\n",
        "                 pos=nx.spring_layout(G, seed=0),\n",
        "                 node_size=600,\n",
        "                #  cmap='coolwarm',\n",
        "                 font_size=14,\n",
        "                 font_color='white'\n",
        "                 )\n",
        "nx.draw_networkx_edge_labels(WG, pos=nx.spring_layout(G, seed=0), edge_labels=labels)"
      ],
      "metadata": {
        "colab": {
          "base_uri": "https://localhost:8080/",
          "height": 514
        },
        "id": "y_-pO8p22vG1",
        "outputId": "ec0b5325-c32a-49ae-f3ba-a420f06f4cec"
      },
      "execution_count": null,
      "outputs": [
        {
          "output_type": "execute_result",
          "data": {
            "text/plain": [
              "{('A', 'B'): Text(-0.17063150397490368, -0.25785521234238246, '10'),\n",
              " ('A', 'C'): Text(0.16908485308194388, 0.2584267536065791, '20'),\n",
              " ('B', 'D'): Text(-0.5751319512575159, -0.5819114840781281, '30'),\n",
              " ('B', 'E'): Text(-0.3070875406419613, -0.7577069745265291, '40'),\n",
              " ('C', 'F'): Text(0.5743060275721562, 0.5815239318372771, '50'),\n",
              " ('C', 'G'): Text(0.3081446719975651, 0.7583070963940803, '60')}"
            ]
          },
          "metadata": {},
          "execution_count": 23
        },
        {
          "output_type": "display_data",
          "data": {
            "text/plain": [
              "<Figure size 640x480 with 1 Axes>"
            ],
            "image/png": "[encoded data removed]"
          },
          "metadata": {}
        }
      ]
    },
    {
      "cell_type": "code",
      "source": [
        "G1 = nx.Graph()\n",
        "G1.add_edges_from([(1, 2), (2, 3), (3, 1), (4, 5)])\n",
        "print(f\"Is graph 1 connected? {nx.is_connected(G1)}\")\n",
        "\n",
        "G2 = nx.Graph()\n",
        "G2.add_edges_from([(1, 2), (2, 3), (3, 1), (1, 4)])\n",
        "print(f\"Is graph 2 connected? {nx.is_connected(G2)}\")"
      ],
      "metadata": {
        "colab": {
          "base_uri": "https://localhost:8080/"
        },
        "id": "tC9a1eLQ2w9D",
        "outputId": "8ee50aed-74b7-414d-95be-298f9af7d92f"
      },
      "execution_count": null,
      "outputs": [
        {
          "output_type": "stream",
          "name": "stdout",
          "text": [
            "Is graph 1 connected? False\n",
            "Is graph 2 connected? True\n"
          ]
        }
      ]
    },
    {
      "cell_type": "code",
      "source": [
        "plt.figure(figsize=(8,8))\n",
        "plt.subplot(221)\n",
        "plt.axis('off')\n",
        "nx.draw_networkx(G1,\n",
        "                 pos=nx.spring_layout(G1, seed=0),\n",
        "                 node_size=600,\n",
        "                 cmap='coolwarm',\n",
        "                 font_size=14,\n",
        "                 font_color='white'\n",
        "                 )\n",
        "plt.subplot(222)\n",
        "plt.axis('off')\n",
        "nx.draw_networkx(G2,\n",
        "                 pos=nx.spring_layout(G2, seed=0),\n",
        "                 node_size=600,\n",
        "                 font_size=14,\n",
        "                 font_color='white'\n",
        "                 )"
      ],
      "metadata": {
        "colab": {
          "base_uri": "https://localhost:8080/",
          "height": 316
        },
        "id": "g7nBOF_R4kJd",
        "outputId": "f9a46509-7aa8-41e0-d22f-e2cab35353fd"
      },
      "execution_count": null,
      "outputs": [
        {
          "output_type": "display_data",
          "data": {
            "text/plain": [
              "<Figure size 800x800 with 2 Axes>"
            ],
            "image/png": "[encoded data removed]"
          },
          "metadata": {}
        }
      ]
    },
    {
      "cell_type": "code",
      "source": [
        "#tree, rooted tree, DAG, Bipartite Graph, Complete Graph -- types of graphs\n"
      ],
      "metadata": {
        "id": "vqgb2-4H4m5O"
      },
      "execution_count": null,
      "outputs": []
    },
    {
      "cell_type": "code",
      "source": [],
      "metadata": {
        "id": "qtlz89ut5AoC"
      },
      "execution_count": null,
      "outputs": []
    }
  ]
}