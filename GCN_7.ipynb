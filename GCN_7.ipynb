{
 "cells": [
  {
   "cell_type": "code",
   "execution_count": 2,
   "metadata": {
    "colab": {
     "base_uri": "https://localhost:8080/"
    },
    "id": "8Bzqm1FY7Yb_",
    "outputId": "7a925368-0189-4ffb-d2e2-55e3e8568b83"
   },
   "outputs": [
    {
     "name": "stdout",
     "output_type": "stream",
     "text": [
      "Collecting torch-geometric\n",
      "  Downloading torch_geometric-2.4.0-py3-none-any.whl (1.0 MB)\n",
      "\u001b[?25l     \u001b[90m━━━━━━━━━━━━━━━━━━━━━━━━━━━━━━━━━━━━━━━━\u001b[0m \u001b[32m0.0/1.0 MB\u001b[0m \u001b[31m?\u001b[0m eta \u001b[36m-:--:--\u001b[0m\r",
      "\u001b[2K     \u001b[91m━━━━━━━\u001b[0m\u001b[91m╸\u001b[0m\u001b[90m━━━━━━━━━━━━━━━━━━━━━━━━━━━━━━━━\u001b[0m \u001b[32m0.2/1.0 MB\u001b[0m \u001b[31m5.6 MB/s\u001b[0m eta \u001b[36m0:00:01\u001b[0m\r",
      "\u001b[2K     \u001b[91m━━━━━━━━━━━━━━━━━━━━━━━\u001b[0m\u001b[91m╸\u001b[0m\u001b[90m━━━━━━━━━━━━━━━━\u001b[0m \u001b[32m0.6/1.0 MB\u001b[0m \u001b[31m8.8 MB/s\u001b[0m eta \u001b[36m0:00:01\u001b[0m\r",
      "\u001b[2K     \u001b[91m━━━━━━━━━━━━━━━━━━━━━━━━━━━━━━━━━━━━━━━\u001b[0m\u001b[91m╸\u001b[0m \u001b[32m1.0/1.0 MB\u001b[0m \u001b[31m10.1 MB/s\u001b[0m eta \u001b[36m0:00:01\u001b[0m\r",
      "\u001b[2K     \u001b[90m━━━━━━━━━━━━━━━━━━━━━━━━━━━━━━━━━━━━━━━━\u001b[0m \u001b[32m1.0/1.0 MB\u001b[0m \u001b[31m9.0 MB/s\u001b[0m eta \u001b[36m0:00:00\u001b[0m\n",
      "\u001b[?25hRequirement already satisfied: tqdm in /usr/local/lib/python3.10/dist-packages (from torch-geometric) (4.66.1)\n",
      "Requirement already satisfied: numpy in /usr/local/lib/python3.10/dist-packages (from torch-geometric) (1.23.5)\n",
      "Requirement already satisfied: scipy in /usr/local/lib/python3.10/dist-packages (from torch-geometric) (1.11.4)\n",
      "Requirement already satisfied: jinja2 in /usr/local/lib/python3.10/dist-packages (from torch-geometric) (3.1.3)\n",
      "Requirement already satisfied: requests in /usr/local/lib/python3.10/dist-packages (from torch-geometric) (2.31.0)\n",
      "Requirement already satisfied: pyparsing in /usr/local/lib/python3.10/dist-packages (from torch-geometric) (3.1.1)\n",
      "Requirement already satisfied: scikit-learn in /usr/local/lib/python3.10/dist-packages (from torch-geometric) (1.2.2)\n",
      "Requirement already satisfied: psutil>=5.8.0 in /usr/local/lib/python3.10/dist-packages (from torch-geometric) (5.9.5)\n",
      "Requirement already satisfied: MarkupSafe>=2.0 in /usr/local/lib/python3.10/dist-packages (from jinja2->torch-geometric) (2.1.4)\n",
      "Requirement already satisfied: charset-normalizer<4,>=2 in /usr/local/lib/python3.10/dist-packages (from requests->torch-geometric) (3.3.2)\n",
      "Requirement already satisfied: idna<4,>=2.5 in /usr/local/lib/python3.10/dist-packages (from requests->torch-geometric) (3.6)\n",
      "Requirement already satisfied: urllib3<3,>=1.21.1 in /usr/local/lib/python3.10/dist-packages (from requests->torch-geometric) (2.0.7)\n",
      "Requirement already satisfied: certifi>=2017.4.17 in /usr/local/lib/python3.10/dist-packages (from requests->torch-geometric) (2023.11.17)\n",
      "Requirement already satisfied: joblib>=1.1.1 in /usr/local/lib/python3.10/dist-packages (from scikit-learn->torch-geometric) (1.3.2)\n",
      "Requirement already satisfied: threadpoolctl>=2.0.0 in /usr/local/lib/python3.10/dist-packages (from scikit-learn->torch-geometric) (3.2.0)\n",
      "Installing collected packages: torch-geometric\n",
      "Successfully installed torch-geometric-2.4.0\n"
     ]
    }
   ],
   "source": [
    "!pip install torch-geometric"
   ]
  },
  {
   "cell_type": "code",
   "execution_count": 11,
   "metadata": {
    "id": "-BxGzybR7sy9"
   },
   "outputs": [],
   "source": [
    "import torch\n",
    "import torch.nn.functional as F\n",
    "from torch_geometric.nn import GCNConv\n",
    "from torch_geometric.datasets import Planetoid"
   ]
  },
  {
   "cell_type": "code",
   "execution_count": 12,
   "metadata": {
    "id": "DHhRCiHV7d6r"
   },
   "outputs": [],
   "source": [
    "dataset = Planetoid(root=\".\", name=\"Cora\")\n",
    "data = dataset[0]\n",
    "\n",
    "def accuracy(y_pred, y_true):\n",
    "    \"\"\"Calculate accuracy.\"\"\"\n",
    "    return torch.sum(y_pred == y_true) / len(y_true)"
   ]
  },
  {
   "cell_type": "code",
   "execution_count": 13,
   "metadata": {
    "id": "cQfQaJU07hDp"
   },
   "outputs": [],
   "source": [
    "class GCN(torch.nn.Module):\n",
    "    \"\"\"Graph Convolutional Network\"\"\"\n",
    "    def __init__(self, dim_in, dim_h, dim_out):\n",
    "        super().__init__()\n",
    "        self.gcn1 = GCNConv(dim_in, dim_h)\n",
    "        self.gcn2 = GCNConv(dim_h, dim_out)\n",
    "\n",
    "    def forward(self, x, edge_index):\n",
    "        h = self.gcn1(x, edge_index)\n",
    "        h = torch.relu(h)\n",
    "        h = self.gcn2(h, edge_index)\n",
    "        return F.log_softmax(h, dim=1)\n",
    "\n",
    "    def fit(self, data, epochs):\n",
    "        criterion = torch.nn.CrossEntropyLoss()\n",
    "        optimizer = torch.optim.Adam(self.parameters(),\n",
    "                                      lr=0.0001,\n",
    "                                      weight_decay=5e-4)\n",
    "\n",
    "        self.train()\n",
    "        for epoch in range(epochs+1):\n",
    "            optimizer.zero_grad()\n",
    "            out = self(data.x, data.edge_index)\n",
    "            loss = criterion(out[data.train_mask], data.y[data.train_mask])\n",
    "            acc = accuracy(out[data.train_mask].argmax(dim=1),\n",
    "                          data.y[data.train_mask])\n",
    "            loss.backward()\n",
    "            optimizer.step()\n",
    "\n",
    "            if(epoch % 20 == 0):\n",
    "                val_loss = criterion(out[data.val_mask], data.y[data.val_mask])\n",
    "                val_acc = accuracy(out[data.val_mask].argmax(dim=1),\n",
    "                                  data.y[data.val_mask])\n",
    "                print(f'Epoch {epoch:>3} | Train Loss: {loss:.3f} | Train Acc:'\n",
    "                      f' {acc*100:>5.2f}% | Val Loss: {val_loss:.2f} | '\n",
    "                      f'Val Acc: {val_acc*100:.2f}%')\n",
    "\n",
    "    @torch.no_grad()\n",
    "    def test(self, data):\n",
    "        self.eval()\n",
    "        out = self(data.x, data.edge_index)\n",
    "        acc = accuracy(out.argmax(dim=1)[data.test_mask], data.y[data.test_mask])\n",
    "        return acc"
   ]
  },
  {
   "cell_type": "code",
   "execution_count": 14,
   "metadata": {
    "colab": {
     "base_uri": "https://localhost:8080/"
    },
    "id": "KHlolW4079gi",
    "outputId": "e720cd0f-b9d1-4469-c16b-0d256b2b7255"
   },
   "outputs": [
    {
     "name": "stdout",
     "output_type": "stream",
     "text": [
      "GCN(\n",
      "  (gcn1): GCNConv(1433, 16)\n",
      "  (gcn2): GCNConv(16, 7)\n",
      ")\n",
      "Epoch   0 | Train Loss: 1.933 | Train Acc: 20.71% | Val Loss: 1.93 | Val Acc: 19.20%\n",
      "Epoch  20 | Train Loss: 1.902 | Train Acc: 30.71% | Val Loss: 1.92 | Val Acc: 24.00%\n",
      "Epoch  40 | Train Loss: 1.867 | Train Acc: 41.43% | Val Loss: 1.90 | Val Acc: 33.00%\n",
      "Epoch  60 | Train Loss: 1.827 | Train Acc: 51.43% | Val Loss: 1.88 | Val Acc: 41.60%\n",
      "Epoch  80 | Train Loss: 1.782 | Train Acc: 58.57% | Val Loss: 1.85 | Val Acc: 46.40%\n",
      "Epoch 100 | Train Loss: 1.732 | Train Acc: 67.14% | Val Loss: 1.82 | Val Acc: 50.60%\n",
      "Epoch 120 | Train Loss: 1.679 | Train Acc: 75.00% | Val Loss: 1.78 | Val Acc: 54.40%\n",
      "Epoch 140 | Train Loss: 1.626 | Train Acc: 81.43% | Val Loss: 1.75 | Val Acc: 58.60%\n",
      "Epoch 160 | Train Loss: 1.573 | Train Acc: 85.71% | Val Loss: 1.72 | Val Acc: 61.60%\n",
      "Epoch 180 | Train Loss: 1.522 | Train Acc: 88.57% | Val Loss: 1.69 | Val Acc: 65.20%\n",
      "Epoch 200 | Train Loss: 1.472 | Train Acc: 90.71% | Val Loss: 1.66 | Val Acc: 67.60%\n",
      "Epoch 220 | Train Loss: 1.423 | Train Acc: 92.14% | Val Loss: 1.63 | Val Acc: 69.60%\n",
      "Epoch 240 | Train Loss: 1.376 | Train Acc: 92.86% | Val Loss: 1.60 | Val Acc: 70.40%\n",
      "Epoch 260 | Train Loss: 1.330 | Train Acc: 95.00% | Val Loss: 1.57 | Val Acc: 71.20%\n",
      "Epoch 280 | Train Loss: 1.286 | Train Acc: 95.71% | Val Loss: 1.55 | Val Acc: 72.20%\n",
      "Epoch 300 | Train Loss: 1.243 | Train Acc: 96.43% | Val Loss: 1.52 | Val Acc: 73.00%\n",
      "Epoch 320 | Train Loss: 1.201 | Train Acc: 96.43% | Val Loss: 1.50 | Val Acc: 73.60%\n",
      "Epoch 340 | Train Loss: 1.161 | Train Acc: 96.43% | Val Loss: 1.47 | Val Acc: 74.40%\n",
      "Epoch 360 | Train Loss: 1.122 | Train Acc: 97.86% | Val Loss: 1.45 | Val Acc: 75.00%\n",
      "Epoch 380 | Train Loss: 1.084 | Train Acc: 98.57% | Val Loss: 1.43 | Val Acc: 75.80%\n",
      "Epoch 400 | Train Loss: 1.047 | Train Acc: 98.57% | Val Loss: 1.40 | Val Acc: 76.00%\n",
      "Epoch 420 | Train Loss: 1.012 | Train Acc: 98.57% | Val Loss: 1.38 | Val Acc: 76.20%\n",
      "Epoch 440 | Train Loss: 0.977 | Train Acc: 98.57% | Val Loss: 1.36 | Val Acc: 76.60%\n",
      "Epoch 460 | Train Loss: 0.944 | Train Acc: 98.57% | Val Loss: 1.34 | Val Acc: 77.00%\n",
      "Epoch 480 | Train Loss: 0.911 | Train Acc: 98.57% | Val Loss: 1.32 | Val Acc: 77.20%\n",
      "Epoch 500 | Train Loss: 0.880 | Train Acc: 98.57% | Val Loss: 1.30 | Val Acc: 77.00%\n",
      "Epoch 520 | Train Loss: 0.850 | Train Acc: 98.57% | Val Loss: 1.29 | Val Acc: 77.00%\n",
      "Epoch 540 | Train Loss: 0.821 | Train Acc: 98.57% | Val Loss: 1.27 | Val Acc: 77.40%\n",
      "Epoch 560 | Train Loss: 0.792 | Train Acc: 98.57% | Val Loss: 1.25 | Val Acc: 77.80%\n",
      "Epoch 580 | Train Loss: 0.765 | Train Acc: 98.57% | Val Loss: 1.23 | Val Acc: 77.60%\n",
      "Epoch 600 | Train Loss: 0.738 | Train Acc: 98.57% | Val Loss: 1.22 | Val Acc: 77.60%\n",
      "Epoch 620 | Train Loss: 0.713 | Train Acc: 98.57% | Val Loss: 1.20 | Val Acc: 77.60%\n",
      "Epoch 640 | Train Loss: 0.688 | Train Acc: 98.57% | Val Loss: 1.19 | Val Acc: 77.80%\n",
      "Epoch 660 | Train Loss: 0.664 | Train Acc: 98.57% | Val Loss: 1.17 | Val Acc: 77.80%\n",
      "Epoch 680 | Train Loss: 0.641 | Train Acc: 98.57% | Val Loss: 1.16 | Val Acc: 77.60%\n",
      "Epoch 700 | Train Loss: 0.619 | Train Acc: 98.57% | Val Loss: 1.14 | Val Acc: 77.60%\n",
      "Epoch 720 | Train Loss: 0.597 | Train Acc: 98.57% | Val Loss: 1.13 | Val Acc: 77.40%\n",
      "Epoch 740 | Train Loss: 0.577 | Train Acc: 99.29% | Val Loss: 1.12 | Val Acc: 77.60%\n",
      "Epoch 760 | Train Loss: 0.557 | Train Acc: 99.29% | Val Loss: 1.11 | Val Acc: 77.60%\n",
      "Epoch 780 | Train Loss: 0.538 | Train Acc: 99.29% | Val Loss: 1.09 | Val Acc: 77.40%\n",
      "Epoch 800 | Train Loss: 0.519 | Train Acc: 99.29% | Val Loss: 1.08 | Val Acc: 77.40%\n",
      "Epoch 820 | Train Loss: 0.501 | Train Acc: 99.29% | Val Loss: 1.07 | Val Acc: 77.60%\n",
      "Epoch 840 | Train Loss: 0.484 | Train Acc: 99.29% | Val Loss: 1.06 | Val Acc: 77.60%\n",
      "Epoch 860 | Train Loss: 0.468 | Train Acc: 99.29% | Val Loss: 1.05 | Val Acc: 77.40%\n",
      "Epoch 880 | Train Loss: 0.452 | Train Acc: 99.29% | Val Loss: 1.04 | Val Acc: 77.40%\n",
      "Epoch 900 | Train Loss: 0.437 | Train Acc: 99.29% | Val Loss: 1.03 | Val Acc: 77.40%\n",
      "Epoch 920 | Train Loss: 0.422 | Train Acc: 99.29% | Val Loss: 1.02 | Val Acc: 77.20%\n",
      "Epoch 940 | Train Loss: 0.408 | Train Acc: 99.29% | Val Loss: 1.01 | Val Acc: 77.20%\n",
      "Epoch 960 | Train Loss: 0.395 | Train Acc: 100.00% | Val Loss: 1.00 | Val Acc: 77.60%\n",
      "Epoch 980 | Train Loss: 0.382 | Train Acc: 100.00% | Val Loss: 0.99 | Val Acc: 77.60%\n",
      "Epoch 1000 | Train Loss: 0.369 | Train Acc: 100.00% | Val Loss: 0.99 | Val Acc: 77.60%\n",
      "\n",
      "GCN test accuracy: 80.10%\n",
      "\n"
     ]
    }
   ],
   "source": [
    "# Create the Vanilla GNN model\n",
    "gcn = GCN(dataset.num_features, 16, dataset.num_classes)\n",
    "print(gcn)\n",
    "\n",
    "# Train\n",
    "gcn.fit(data, epochs=1000)\n",
    "\n",
    "# Test\n",
    "acc = gcn.test(data)\n",
    "print(f'\\nGCN test accuracy: {acc*100:.2f}%\\n')"
   ]
  },
  {
   "cell_type": "code",
   "execution_count": 14,
   "metadata": {
    "id": "TJSWcSMB8BzS"
   },
   "outputs": [],
   "source": []
  }
 ],
 "metadata": {
  "colab": {
   "provenance": []
  },
  "kernelspec": {
   "display_name": "Python 3 (ipykernel)",
   "language": "python",
   "name": "python3"
  },
  "language_info": {
   "codemirror_mode": {
    "name": "ipython",
    "version": 3
   },
   "file_extension": ".py",
   "mimetype": "text/x-python",
   "name": "python",
   "nbconvert_exporter": "python",
   "pygments_lexer": "ipython3",
   "version": "3.8.10"
  }
 },
 "nbformat": 4,
 "nbformat_minor": 1
}
